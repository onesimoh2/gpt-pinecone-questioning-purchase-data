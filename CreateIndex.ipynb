{
 "cells": [
  {
   "cell_type": "code",
   "execution_count": null,
   "metadata": {},
   "outputs": [],
   "source": [
    "import pinecone\n",
    "import pandas as pd\n",
    "\n",
    "\n",
    "emb_dat = pd.read_csv(\"data/sales_data_emb.csv\")\n",
    "embeds = emb_dat.loc[0, 'embeddings']\n",
    "emb_lst = [float(x) for x in embeds.strip('[]').split(',')]\n",
    "emb_len = len(emb_lst)\n",
    "\n",
    "\n",
    "pinecone.init(api_key=\"\", environment=\"\")\n",
    "active_indexes = pinecone.list_indexes()\n",
    "if \"purchase-index\" not in active_indexes:\n",
    "    pinecone.create_index(\"purchase-index\", dimension=emb_len)\n",
    "\n",
    "# Build data to insert\n",
    "id_key = emb_dat['dates']\n",
    "all_emb_lst = []\n",
    "all_embeds = emb_dat['embeddings']\n",
    "for embeds in all_embeds:\n",
    "    emb_lst = [float(x) for x in embeds.strip('[]').split(',')]\n",
    "    all_emb_lst.append(emb_lst)\n",
    "\n",
    "for_upload = zip(id_key, all_emb_lst)\n",
    "index = pinecone.Index(\"purchase-index\")\n",
    "index.upsert(vectors=list(for_upload))"
   ]
  }
 ],
 "metadata": {
  "kernelspec": {
   "display_name": "ven",
   "language": "python",
   "name": "python3"
  },
  "language_info": {
   "codemirror_mode": {
    "name": "ipython",
    "version": 3
   },
   "file_extension": ".py",
   "mimetype": "text/x-python",
   "name": "python",
   "nbconvert_exporter": "python",
   "pygments_lexer": "ipython3",
   "version": "3.9.1"
  },
  "orig_nbformat": 4
 },
 "nbformat": 4,
 "nbformat_minor": 2
}
